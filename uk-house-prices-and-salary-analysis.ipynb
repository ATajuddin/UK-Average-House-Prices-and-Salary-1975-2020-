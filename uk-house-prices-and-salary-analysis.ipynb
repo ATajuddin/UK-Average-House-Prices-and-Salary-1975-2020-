{
 "cells": [
  {
   "cell_type": "markdown",
   "id": "48bd591e",
   "metadata": {
    "papermill": {
     "duration": 0.019183,
     "end_time": "2021-11-21T23:07:37.782179",
     "exception": false,
     "start_time": "2021-11-21T23:07:37.762996",
     "status": "completed"
    },
    "tags": []
   },
   "source": [
    "# Libraries"
   ]
  },
  {
   "cell_type": "code",
   "execution_count": 1,
   "id": "b7a45214",
   "metadata": {
    "execution": {
     "iopub.execute_input": "2021-11-21T23:07:37.813000Z",
     "iopub.status.busy": "2021-11-21T23:07:37.811786Z",
     "iopub.status.idle": "2021-11-21T23:07:38.769099Z",
     "shell.execute_reply": "2021-11-21T23:07:38.768266Z",
     "shell.execute_reply.started": "2021-11-21T23:04:27.437251Z"
    },
    "papermill": {
     "duration": 0.972934,
     "end_time": "2021-11-21T23:07:38.769268",
     "exception": false,
     "start_time": "2021-11-21T23:07:37.796334",
     "status": "completed"
    },
    "tags": []
   },
   "outputs": [],
   "source": [
    "import numpy as np\n",
    "import pandas as pd\n",
    "import seaborn as sns\n",
    "sns.set_style('darkgrid')\n",
    "import matplotlib.pyplot as plt\n",
    "%matplotlib inline\n",
    "from scipy import stats"
   ]
  },
  {
   "cell_type": "markdown",
   "id": "ea0d05ef",
   "metadata": {
    "papermill": {
     "duration": 0.014458,
     "end_time": "2021-11-21T23:07:38.796309",
     "exception": false,
     "start_time": "2021-11-21T23:07:38.781851",
     "status": "completed"
    },
    "tags": []
   },
   "source": [
    "# Data"
   ]
  },
  {
   "cell_type": "code",
   "execution_count": 2,
   "id": "72793864",
   "metadata": {
    "execution": {
     "iopub.execute_input": "2021-11-21T23:07:38.827201Z",
     "iopub.status.busy": "2021-11-21T23:07:38.826510Z",
     "iopub.status.idle": "2021-11-21T23:07:38.866763Z",
     "shell.execute_reply": "2021-11-21T23:07:38.866129Z",
     "shell.execute_reply.started": "2021-11-21T23:04:27.448157Z"
    },
    "papermill": {
     "duration": 0.05814,
     "end_time": "2021-11-21T23:07:38.866916",
     "exception": false,
     "start_time": "2021-11-21T23:07:38.808776",
     "status": "completed"
    },
    "tags": []
   },
   "outputs": [
    {
     "data": {
      "text/html": [
       "<div>\n",
       "<style scoped>\n",
       "    .dataframe tbody tr th:only-of-type {\n",
       "        vertical-align: middle;\n",
       "    }\n",
       "\n",
       "    .dataframe tbody tr th {\n",
       "        vertical-align: top;\n",
       "    }\n",
       "\n",
       "    .dataframe thead th {\n",
       "        text-align: right;\n",
       "    }\n",
       "</style>\n",
       "<table border=\"1\" class=\"dataframe\">\n",
       "  <thead>\n",
       "    <tr style=\"text-align: right;\">\n",
       "      <th></th>\n",
       "      <th>Year</th>\n",
       "      <th>Average house price adj. by inflation (pounds)</th>\n",
       "      <th>Median Salary adj. by inflation (pounds)</th>\n",
       "    </tr>\n",
       "  </thead>\n",
       "  <tbody>\n",
       "    <tr>\n",
       "      <th>0</th>\n",
       "      <td>1975</td>\n",
       "      <td>94983</td>\n",
       "      <td>NaN</td>\n",
       "    </tr>\n",
       "    <tr>\n",
       "      <th>1</th>\n",
       "      <td>1976</td>\n",
       "      <td>89281</td>\n",
       "      <td>NaN</td>\n",
       "    </tr>\n",
       "    <tr>\n",
       "      <th>2</th>\n",
       "      <td>1977</td>\n",
       "      <td>85028</td>\n",
       "      <td>NaN</td>\n",
       "    </tr>\n",
       "    <tr>\n",
       "      <th>3</th>\n",
       "      <td>1978</td>\n",
       "      <td>100519</td>\n",
       "      <td>NaN</td>\n",
       "    </tr>\n",
       "    <tr>\n",
       "      <th>4</th>\n",
       "      <td>1979</td>\n",
       "      <td>112067</td>\n",
       "      <td>NaN</td>\n",
       "    </tr>\n",
       "  </tbody>\n",
       "</table>\n",
       "</div>"
      ],
      "text/plain": [
       "   Year  Average house price adj. by inflation (pounds)  \\\n",
       "0  1975                                           94983   \n",
       "1  1976                                           89281   \n",
       "2  1977                                           85028   \n",
       "3  1978                                          100519   \n",
       "4  1979                                          112067   \n",
       "\n",
       "   Median Salary adj. by inflation (pounds)  \n",
       "0                                       NaN  \n",
       "1                                       NaN  \n",
       "2                                       NaN  \n",
       "3                                       NaN  \n",
       "4                                       NaN  "
      ]
     },
     "execution_count": 2,
     "metadata": {},
     "output_type": "execute_result"
    }
   ],
   "source": [
    "data_df=pd.read_csv('../input/d/samuelcortinhas/uk-median-house-prices-and-salary-19752020/UK historical house prices and salary/Average_UK_houseprices_and_salary.csv')\n",
    "data_df.drop('Unnamed: 3', axis=1, inplace=True) # not sure why that column is there\n",
    "data_df.head()"
   ]
  },
  {
   "cell_type": "code",
   "execution_count": 3,
   "id": "809e13c8",
   "metadata": {
    "execution": {
     "iopub.execute_input": "2021-11-21T23:07:38.898253Z",
     "iopub.status.busy": "2021-11-21T23:07:38.897548Z",
     "iopub.status.idle": "2021-11-21T23:07:38.910242Z",
     "shell.execute_reply": "2021-11-21T23:07:38.910783Z",
     "shell.execute_reply.started": "2021-11-21T23:04:27.474976Z"
    },
    "papermill": {
     "duration": 0.030949,
     "end_time": "2021-11-21T23:07:38.910955",
     "exception": false,
     "start_time": "2021-11-21T23:07:38.880006",
     "status": "completed"
    },
    "tags": []
   },
   "outputs": [
    {
     "data": {
      "text/html": [
       "<div>\n",
       "<style scoped>\n",
       "    .dataframe tbody tr th:only-of-type {\n",
       "        vertical-align: middle;\n",
       "    }\n",
       "\n",
       "    .dataframe tbody tr th {\n",
       "        vertical-align: top;\n",
       "    }\n",
       "\n",
       "    .dataframe thead th {\n",
       "        text-align: right;\n",
       "    }\n",
       "</style>\n",
       "<table border=\"1\" class=\"dataframe\">\n",
       "  <thead>\n",
       "    <tr style=\"text-align: right;\">\n",
       "      <th></th>\n",
       "      <th>Age group</th>\n",
       "      <th>Median salary (pounds)</th>\n",
       "      <th>Gender</th>\n",
       "    </tr>\n",
       "  </thead>\n",
       "  <tbody>\n",
       "    <tr>\n",
       "      <th>0</th>\n",
       "      <td>18 to 21</td>\n",
       "      <td>18392</td>\n",
       "      <td>Male</td>\n",
       "    </tr>\n",
       "    <tr>\n",
       "      <th>1</th>\n",
       "      <td>22 to 29</td>\n",
       "      <td>26856</td>\n",
       "      <td>Male</td>\n",
       "    </tr>\n",
       "    <tr>\n",
       "      <th>2</th>\n",
       "      <td>30 to 39</td>\n",
       "      <td>34210</td>\n",
       "      <td>Male</td>\n",
       "    </tr>\n",
       "    <tr>\n",
       "      <th>3</th>\n",
       "      <td>40 to 49</td>\n",
       "      <td>38463</td>\n",
       "      <td>Male</td>\n",
       "    </tr>\n",
       "    <tr>\n",
       "      <th>4</th>\n",
       "      <td>50 to 59</td>\n",
       "      <td>36000</td>\n",
       "      <td>Male</td>\n",
       "    </tr>\n",
       "    <tr>\n",
       "      <th>5</th>\n",
       "      <td>60 and over</td>\n",
       "      <td>30944</td>\n",
       "      <td>Male</td>\n",
       "    </tr>\n",
       "    <tr>\n",
       "      <th>6</th>\n",
       "      <td>18 to 21</td>\n",
       "      <td>17005</td>\n",
       "      <td>Female</td>\n",
       "    </tr>\n",
       "    <tr>\n",
       "      <th>7</th>\n",
       "      <td>22 to 29</td>\n",
       "      <td>25115</td>\n",
       "      <td>Female</td>\n",
       "    </tr>\n",
       "    <tr>\n",
       "      <th>8</th>\n",
       "      <td>30 to 39</td>\n",
       "      <td>30540</td>\n",
       "      <td>Female</td>\n",
       "    </tr>\n",
       "    <tr>\n",
       "      <th>9</th>\n",
       "      <td>40 to 49</td>\n",
       "      <td>31679</td>\n",
       "      <td>Female</td>\n",
       "    </tr>\n",
       "    <tr>\n",
       "      <th>10</th>\n",
       "      <td>50 to 59</td>\n",
       "      <td>28811</td>\n",
       "      <td>Female</td>\n",
       "    </tr>\n",
       "    <tr>\n",
       "      <th>11</th>\n",
       "      <td>60 and over</td>\n",
       "      <td>24850</td>\n",
       "      <td>Female</td>\n",
       "    </tr>\n",
       "  </tbody>\n",
       "</table>\n",
       "</div>"
      ],
      "text/plain": [
       "      Age group  Median salary (pounds)  Gender\n",
       "0      18 to 21                   18392    Male\n",
       "1      22 to 29                   26856    Male\n",
       "2      30 to 39                   34210    Male\n",
       "3      40 to 49                   38463    Male\n",
       "4      50 to 59                   36000    Male\n",
       "5   60 and over                   30944    Male\n",
       "6      18 to 21                   17005  Female\n",
       "7      22 to 29                   25115  Female\n",
       "8      30 to 39                   30540  Female\n",
       "9      40 to 49                   31679  Female\n",
       "10     50 to 59                   28811  Female\n",
       "11  60 and over                   24850  Female"
      ]
     },
     "execution_count": 3,
     "metadata": {},
     "output_type": "execute_result"
    }
   ],
   "source": [
    "paygap_df=pd.read_csv('../input/d/samuelcortinhas/uk-median-house-prices-and-salary-19752020/UK historical house prices and salary/Income_by_age_and_gender.csv')\n",
    "paygap_df"
   ]
  },
  {
   "cell_type": "markdown",
   "id": "bc90251a",
   "metadata": {
    "papermill": {
     "duration": 0.013227,
     "end_time": "2021-11-21T23:07:38.937567",
     "exception": false,
     "start_time": "2021-11-21T23:07:38.924340",
     "status": "completed"
    },
    "tags": []
   },
   "source": [
    "# Average house prices"
   ]
  },
  {
   "cell_type": "code",
   "execution_count": 4,
   "id": "f46ea0bb",
   "metadata": {
    "execution": {
     "iopub.execute_input": "2021-11-21T23:07:38.969252Z",
     "iopub.status.busy": "2021-11-21T23:07:38.968267Z",
     "iopub.status.idle": "2021-11-21T23:07:39.441219Z",
     "shell.execute_reply": "2021-11-21T23:07:39.441756Z",
     "shell.execute_reply.started": "2021-11-21T23:04:27.493905Z"
    },
    "papermill": {
     "duration": 0.490412,
     "end_time": "2021-11-21T23:07:39.441940",
     "exception": false,
     "start_time": "2021-11-21T23:07:38.951528",
     "status": "completed"
    },
    "tags": []
   },
   "outputs": [
    {
     "data": {
      "text/plain": [
       "Text(0, 0.5, 'Average price adjusted by inflation (£)')"
      ]
     },
     "execution_count": 4,
     "metadata": {},
     "output_type": "execute_result"
    },
    {
     "data": {
      "image/png": "[encoded data removed]",
      "text/plain": [
       "<Figure size 1008x432 with 1 Axes>"
      ]
     },
     "metadata": {
      "needs_background": "light"
     },
     "output_type": "display_data"
    }
   ],
   "source": [
    "# Figure size\n",
    "plt.figure(figsize=(14,6))\n",
    "\n",
    "# Scatterplot with regression lines\n",
    "sns.regplot(x='Year', y='Average house price adj. by inflation (pounds)', data=data_df, \n",
    "            marker='x', scatter_kws={\"s\": 50, 'color':'blue'}, line_kws={\"color\": \"orange\"}, ci=False)\n",
    "\n",
    "# Aesthetics\n",
    "plt.title('Average House Prices in UK (adjusted by inflation) \\n')\n",
    "plt.ylabel('Average price adjusted by inflation (£)')"
   ]
  },
  {
   "cell_type": "markdown",
   "id": "1bc90425",
   "metadata": {
    "papermill": {
     "duration": 0.014632,
     "end_time": "2021-11-21T23:07:39.471616",
     "exception": false,
     "start_time": "2021-11-21T23:07:39.456984",
     "status": "completed"
    },
    "tags": []
   },
   "source": [
    "**Regression line**"
   ]
  },
  {
   "cell_type": "code",
   "execution_count": 5,
   "id": "e6a7b335",
   "metadata": {
    "execution": {
     "iopub.execute_input": "2021-11-21T23:07:39.506336Z",
     "iopub.status.busy": "2021-11-21T23:07:39.503774Z",
     "iopub.status.idle": "2021-11-21T23:07:39.511926Z",
     "shell.execute_reply": "2021-11-21T23:07:39.512559Z",
     "shell.execute_reply.started": "2021-11-21T23:04:27.988433Z"
    },
    "papermill": {
     "duration": 0.026346,
     "end_time": "2021-11-21T23:07:39.512729",
     "exception": false,
     "start_time": "2021-11-21T23:07:39.486383",
     "status": "completed"
    },
    "tags": []
   },
   "outputs": [
    {
     "name": "stdout",
     "output_type": "stream",
     "text": [
      "The slope of the regression line is: £ 3920.94\n"
     ]
    }
   ],
   "source": [
    "# Slope of regression line\n",
    "slope, intercept, r_value, p_value, std_err = stats.linregress(data_df['Year'],\n",
    "                                                               data_df['Average house price adj. by inflation (pounds)'])\n",
    "\n",
    "print('The slope of the regression line is: £','{:.2f}'.format(slope))"
   ]
  },
  {
   "cell_type": "markdown",
   "id": "dda6050a",
   "metadata": {
    "papermill": {
     "duration": 0.01548,
     "end_time": "2021-11-21T23:07:39.543609",
     "exception": false,
     "start_time": "2021-11-21T23:07:39.528129",
     "status": "completed"
    },
    "tags": []
   },
   "source": [
    "**Observations:**\n",
    "* The regression line tells us that houses prices are **increasing** each year on average **after inflation has been taken into account.** By nearly £4000 a year! \n",
    "* We also see that houses prices took a serious drop in 2008/2009 due to the housing market crash at that time. \n",
    "* In the space of 45 years, the average house price has increased from roughly £100,000 to £250,000. That is a 250% increase!\n"
   ]
  },
  {
   "cell_type": "markdown",
   "id": "ebfa8f74",
   "metadata": {
    "papermill": {
     "duration": 0.014826,
     "end_time": "2021-11-21T23:07:39.573749",
     "exception": false,
     "start_time": "2021-11-21T23:07:39.558923",
     "status": "completed"
    },
    "tags": []
   },
   "source": [
    "# Average wages"
   ]
  },
  {
   "cell_type": "code",
   "execution_count": 6,
   "id": "1db40584",
   "metadata": {
    "execution": {
     "iopub.execute_input": "2021-11-21T23:07:39.607863Z",
     "iopub.status.busy": "2021-11-21T23:07:39.607165Z",
     "iopub.status.idle": "2021-11-21T23:07:40.107085Z",
     "shell.execute_reply": "2021-11-21T23:07:40.107587Z",
     "shell.execute_reply.started": "2021-11-21T23:04:27.996749Z"
    },
    "papermill": {
     "duration": 0.518767,
     "end_time": "2021-11-21T23:07:40.107757",
     "exception": false,
     "start_time": "2021-11-21T23:07:39.588990",
     "status": "completed"
    },
    "tags": []
   },
   "outputs": [
    {
     "data": {
      "text/plain": [
       "Text(0, 0.5, 'Average wage adjusted by inflation (£)')"
      ]
     },
     "execution_count": 6,
     "metadata": {},
     "output_type": "execute_result"
    },
    {
     "data": {
      "image/png": "[encoded data removed]",
      "text/plain": [
       "<Figure size 1008x432 with 1 Axes>"
      ]
     },
     "metadata": {
      "needs_background": "light"
     },
     "output_type": "display_data"
    }
   ],
   "source": [
    "# Figure size\n",
    "plt.figure(figsize=(14,6))\n",
    "\n",
    "# Scatterplot with regression lines\n",
    "sns.regplot(x='Year', y='Median Salary adj. by inflation (pounds)', data=data_df, \n",
    "            marker='x', scatter_kws={\"s\": 50, 'color':'green'}, line_kws={\"color\": \"purple\"}, ci=False)\n",
    "\n",
    "# Aesthetics\n",
    "plt.title('Median yearly earnings in UK (adjusted by inflation) \\n')\n",
    "plt.ylabel('Average wage adjusted by inflation (£)')"
   ]
  },
  {
   "cell_type": "code",
   "execution_count": 7,
   "id": "a6c8c6d6",
   "metadata": {
    "execution": {
     "iopub.execute_input": "2021-11-21T23:07:40.149492Z",
     "iopub.status.busy": "2021-11-21T23:07:40.148259Z",
     "iopub.status.idle": "2021-11-21T23:07:40.153482Z",
     "shell.execute_reply": "2021-11-21T23:07:40.154081Z",
     "shell.execute_reply.started": "2021-11-21T23:04:28.423944Z"
    },
    "papermill": {
     "duration": 0.029256,
     "end_time": "2021-11-21T23:07:40.154245",
     "exception": false,
     "start_time": "2021-11-21T23:07:40.124989",
     "status": "completed"
    },
    "tags": []
   },
   "outputs": [
    {
     "name": "stdout",
     "output_type": "stream",
     "text": [
      "The slope of the regression line is: £ -149.39\n"
     ]
    }
   ],
   "source": [
    "# Slope of regression line\n",
    "slope, intercept, r_value, p_value, std_err = stats.linregress(data_df.iloc[24:,0],\n",
    "                                                               data_df.iloc[24:,2])\n",
    "\n",
    "print('The slope of the regression line is: £','{:.2f}'.format(slope))"
   ]
  },
  {
   "cell_type": "markdown",
   "id": "7c8a5ca1",
   "metadata": {
    "papermill": {
     "duration": 0.017893,
     "end_time": "2021-11-21T23:07:40.189867",
     "exception": false,
     "start_time": "2021-11-21T23:07:40.171974",
     "status": "completed"
    },
    "tags": []
   },
   "source": [
    "**Observations:**\n",
    "* The average salary in the UK is actually **decreasing** (by £150) each year on average after inflation has been taken into account. \n",
    "* It seems they took the biggest hit just after the housing market crash of 2008-2009. \n",
    "* Whilst house prices bounced back after 2010, wages have not. "
   ]
  },
  {
   "cell_type": "markdown",
   "id": "2a3cb169",
   "metadata": {
    "papermill": {
     "duration": 0.017142,
     "end_time": "2021-11-21T23:07:40.224479",
     "exception": false,
     "start_time": "2021-11-21T23:07:40.207337",
     "status": "completed"
    },
    "tags": []
   },
   "source": [
    "# Bonus Section: The Pay Gap"
   ]
  },
  {
   "cell_type": "markdown",
   "id": "9c9a66bf",
   "metadata": {
    "papermill": {
     "duration": 0.017597,
     "end_time": "2021-11-21T23:07:40.259811",
     "exception": false,
     "start_time": "2021-11-21T23:07:40.242214",
     "status": "completed"
    },
    "tags": []
   },
   "source": [
    "On the theme of unfairness I thought I would also thrown in some analysis of this interesting dataset. "
   ]
  },
  {
   "cell_type": "code",
   "execution_count": 8,
   "id": "924accdd",
   "metadata": {
    "execution": {
     "iopub.execute_input": "2021-11-21T23:07:40.299612Z",
     "iopub.status.busy": "2021-11-21T23:07:40.298623Z",
     "iopub.status.idle": "2021-11-21T23:07:40.686044Z",
     "shell.execute_reply": "2021-11-21T23:07:40.686794Z",
     "shell.execute_reply.started": "2021-11-21T23:06:27.874100Z"
    },
    "papermill": {
     "duration": 0.409408,
     "end_time": "2021-11-21T23:07:40.686998",
     "exception": false,
     "start_time": "2021-11-21T23:07:40.277590",
     "status": "completed"
    },
    "tags": []
   },
   "outputs": [
    {
     "data": {
      "text/plain": [
       "Text(0.5, 1.0, 'Average UK wages in 2021 by age group and gender \\n')"
      ]
     },
     "execution_count": 8,
     "metadata": {},
     "output_type": "execute_result"
    },
    {
     "data": {
      "image/png": "[encoded data removed]",
      "text/plain": [
       "<Figure size 1008x432 with 1 Axes>"
      ]
     },
     "metadata": {
      "needs_background": "light"
     },
     "output_type": "display_data"
    }
   ],
   "source": [
    "# Figure size\n",
    "plt.figure(figsize=(14,6))\n",
    "\n",
    "# Scatterplot with regression lines\n",
    "sns.barplot(x='Age group', y='Median salary (pounds)', data=paygap_df, hue='Gender')\n",
    "\n",
    "# Aesthetics\n",
    "plt.title('Average UK wages in 2021 by age group and gender \\n')"
   ]
  },
  {
   "cell_type": "markdown",
   "id": "1e48e660",
   "metadata": {
    "papermill": {
     "duration": 0.018677,
     "end_time": "2021-11-21T23:07:40.727763",
     "exception": false,
     "start_time": "2021-11-21T23:07:40.709086",
     "status": "completed"
    },
    "tags": []
   },
   "source": [
    "**Observations:**\n",
    "* Wages increase with age until the 40-49 age group. They then decrease for over 50's.\n",
    "* Men out-earn Women in every age group.\n",
    "* The pay gap increases with age. \n",
    "\n"
   ]
  }
 ],
 "metadata": {
  "kernelspec": {
   "display_name": "Python 3",
   "language": "python",
   "name": "python3"
  },
  "language_info": {
   "codemirror_mode": {
    "name": "ipython",
    "version": 3
   },
   "file_extension": ".py",
   "mimetype": "text/x-python",
   "name": "python",
   "nbconvert_exporter": "python",
   "pygments_lexer": "ipython3",
   "version": "3.7.10"
  },
  "papermill": {
   "default_parameters": {},
   "duration": 12.817698,
   "end_time": "2021-11-21T23:07:41.355992",
   "environment_variables": {},
   "exception": null,
   "input_path": "__notebook__.ipynb",
   "output_path": "__notebook__.ipynb",
   "parameters": {},
   "start_time": "2021-11-21T23:07:28.538294",
   "version": "2.3.3"
  }
 },
 "nbformat": 4,
 "nbformat_minor": 5
}
